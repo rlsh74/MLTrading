{
 "cells": [
  {
   "cell_type": "code",
   "execution_count": 1,
   "metadata": {},
   "outputs": [],
   "source": [
    "class SparseVector:\n",
    "    def __init__(self, nums: list[int]):\n",
    "        self.nums = nums\n",
    "        self.indices = [i for i in range(len(nums)) if nums[i] != 0]\n",
    "\n",
    "    def dot_product(self, vec: 'SparseVector') -> int:\n",
    "        result = 0\n",
    "        i = 0\n",
    "        j = 0\n",
    "        while i < len(self.indices) and j < len(vec.indices):\n",
    "            if self.indices[i] == vec.indices[j]:\n",
    "                result += self.nums[self.indices[i]] * vec.nums[vec.indices[j]]\n",
    "                i += 1\n",
    "                j += 1\n",
    "            elif self.indices[i] < vec.indices[j]:\n",
    "                i += 1\n",
    "            else:\n",
    "                j += 1\n",
    "        return result"
   ]
  },
  {
   "cell_type": "code",
   "execution_count": 2,
   "metadata": {},
   "outputs": [],
   "source": [
    "nums1 = [0,0,3,40,0,0,0,5,0]\n",
    "nums2 = [1,0,0,2,0,14,0,0,0]\n",
    "vec1 = SparseVector(nums1)\n",
    "vec2 = SparseVector(nums2)\n",
    "result = vec1.dot_product(vec2)\n"
   ]
  },
  {
   "cell_type": "code",
   "execution_count": 3,
   "metadata": {},
   "outputs": [
    {
     "data": {
      "text/plain": [
       "80"
      ]
     },
     "execution_count": 3,
     "metadata": {},
     "output_type": "execute_result"
    }
   ],
   "source": [
    "result"
   ]
  },
  {
   "cell_type": "code",
   "execution_count": 4,
   "metadata": {},
   "outputs": [],
   "source": [
    "import pandas as pd\n",
    "import numpy as np"
   ]
  },
  {
   "cell_type": "code",
   "execution_count": 7,
   "metadata": {},
   "outputs": [
    {
     "data": {
      "text/html": [
       "<div>\n",
       "<style scoped>\n",
       "    .dataframe tbody tr th:only-of-type {\n",
       "        vertical-align: middle;\n",
       "    }\n",
       "\n",
       "    .dataframe tbody tr th {\n",
       "        vertical-align: top;\n",
       "    }\n",
       "\n",
       "    .dataframe thead th {\n",
       "        text-align: right;\n",
       "    }\n",
       "</style>\n",
       "<table border=\"1\" class=\"dataframe\">\n",
       "  <thead>\n",
       "    <tr style=\"text-align: right;\">\n",
       "      <th></th>\n",
       "      <th>customer_global_rk</th>\n",
       "      <th>trans_dt</th>\n",
       "      <th>trans_amt</th>\n",
       "    </tr>\n",
       "  </thead>\n",
       "  <tbody>\n",
       "    <tr>\n",
       "      <th>0</th>\n",
       "      <td>110</td>\n",
       "      <td>2023-01-01</td>\n",
       "      <td>123</td>\n",
       "    </tr>\n",
       "    <tr>\n",
       "      <th>1</th>\n",
       "      <td>110</td>\n",
       "      <td>2023-01-01</td>\n",
       "      <td>235</td>\n",
       "    </tr>\n",
       "    <tr>\n",
       "      <th>2</th>\n",
       "      <td>110</td>\n",
       "      <td>2023-01-03</td>\n",
       "      <td>345</td>\n",
       "    </tr>\n",
       "    <tr>\n",
       "      <th>3</th>\n",
       "      <td>111</td>\n",
       "      <td>2023-01-04</td>\n",
       "      <td>654</td>\n",
       "    </tr>\n",
       "    <tr>\n",
       "      <th>4</th>\n",
       "      <td>111</td>\n",
       "      <td>2023-01-05</td>\n",
       "      <td>229</td>\n",
       "    </tr>\n",
       "    <tr>\n",
       "      <th>5</th>\n",
       "      <td>111</td>\n",
       "      <td>2023-01-08</td>\n",
       "      <td>345</td>\n",
       "    </tr>\n",
       "    <tr>\n",
       "      <th>6</th>\n",
       "      <td>112</td>\n",
       "      <td>2023-01-01</td>\n",
       "      <td>212</td>\n",
       "    </tr>\n",
       "    <tr>\n",
       "      <th>7</th>\n",
       "      <td>112</td>\n",
       "      <td>2023-01-02</td>\n",
       "      <td>334</td>\n",
       "    </tr>\n",
       "    <tr>\n",
       "      <th>8</th>\n",
       "      <td>113</td>\n",
       "      <td>2023-01-09</td>\n",
       "      <td>789</td>\n",
       "    </tr>\n",
       "    <tr>\n",
       "      <th>9</th>\n",
       "      <td>113</td>\n",
       "      <td>2023-01-10</td>\n",
       "      <td>200</td>\n",
       "    </tr>\n",
       "    <tr>\n",
       "      <th>10</th>\n",
       "      <td>113</td>\n",
       "      <td>2023-01-12</td>\n",
       "      <td>557</td>\n",
       "    </tr>\n",
       "  </tbody>\n",
       "</table>\n",
       "</div>"
      ],
      "text/plain": [
       "    customer_global_rk    trans_dt  trans_amt\n",
       "0                  110  2023-01-01        123\n",
       "1                  110  2023-01-01        235\n",
       "2                  110  2023-01-03        345\n",
       "3                  111  2023-01-04        654\n",
       "4                  111  2023-01-05        229\n",
       "5                  111  2023-01-08        345\n",
       "6                  112  2023-01-01        212\n",
       "7                  112  2023-01-02        334\n",
       "8                  113  2023-01-09        789\n",
       "9                  113  2023-01-10        200\n",
       "10                 113  2023-01-12        557"
      ]
     },
     "execution_count": 7,
     "metadata": {},
     "output_type": "execute_result"
    }
   ],
   "source": [
    "data = {\n",
    "    \"customer_global_rk\": [110, 110, 110, 111, 111, 111, 112, 112, 113, 113, 113],\n",
    "    \"trans_dt\": [\"2023-01-01\", \"2023-01-01\", \"2023-01-03\", \"2023-01-04\", \"2023-01-05\", \"2023-01-08\", \"2023-01-01\", \"2023-01-02\", \"2023-01-09\", \"2023-01-10\", \"2023-01-12\"],\n",
    "    \"trans_amt\": [123, 235, 345, 654, 229, 345, 212, 334, 789, 200, 557]\n",
    "}\n",
    "df = pd.DataFrame(data)\n"
   ]
  },
  {
   "cell_type": "code",
   "execution_count": 8,
   "metadata": {},
   "outputs": [],
   "source": [
    "a1 = df.groupby([\"customer_global_rk\", \"trans_dt\"])[\"trans_amt\"].sum()"
   ]
  },
  {
   "cell_type": "code",
   "execution_count": 9,
   "metadata": {},
   "outputs": [
    {
     "data": {
      "text/plain": [
       "customer_global_rk  trans_dt  \n",
       "110                 2023-01-01    358\n",
       "                    2023-01-03    345\n",
       "111                 2023-01-04    654\n",
       "                    2023-01-05    229\n",
       "                    2023-01-08    345\n",
       "112                 2023-01-01    212\n",
       "                    2023-01-02    334\n",
       "113                 2023-01-09    789\n",
       "                    2023-01-10    200\n",
       "                    2023-01-12    557\n",
       "Name: trans_amt, dtype: int64"
      ]
     },
     "execution_count": 9,
     "metadata": {},
     "output_type": "execute_result"
    }
   ],
   "source": [
    "a1"
   ]
  },
  {
   "cell_type": "code",
   "execution_count": 37,
   "metadata": {},
   "outputs": [
    {
     "data": {
      "text/html": [
       "<div>\n",
       "<style scoped>\n",
       "    .dataframe tbody tr th:only-of-type {\n",
       "        vertical-align: middle;\n",
       "    }\n",
       "\n",
       "    .dataframe tbody tr th {\n",
       "        vertical-align: top;\n",
       "    }\n",
       "\n",
       "    .dataframe thead th {\n",
       "        text-align: right;\n",
       "    }\n",
       "</style>\n",
       "<table border=\"1\" class=\"dataframe\">\n",
       "  <thead>\n",
       "    <tr style=\"text-align: right;\">\n",
       "      <th></th>\n",
       "      <th>date</th>\n",
       "      <th>client_id</th>\n",
       "      <th>amount</th>\n",
       "    </tr>\n",
       "  </thead>\n",
       "  <tbody>\n",
       "    <tr>\n",
       "      <th>0</th>\n",
       "      <td>2022-01-01</td>\n",
       "      <td>1</td>\n",
       "      <td>100</td>\n",
       "    </tr>\n",
       "    <tr>\n",
       "      <th>1</th>\n",
       "      <td>2022-01-02</td>\n",
       "      <td>1</td>\n",
       "      <td>200</td>\n",
       "    </tr>\n",
       "    <tr>\n",
       "      <th>2</th>\n",
       "      <td>2022-01-03</td>\n",
       "      <td>2</td>\n",
       "      <td>300</td>\n",
       "    </tr>\n",
       "    <tr>\n",
       "      <th>3</th>\n",
       "      <td>2022-01-01</td>\n",
       "      <td>2</td>\n",
       "      <td>400</td>\n",
       "    </tr>\n",
       "    <tr>\n",
       "      <th>4</th>\n",
       "      <td>2022-01-02</td>\n",
       "      <td>3</td>\n",
       "      <td>500</td>\n",
       "    </tr>\n",
       "    <tr>\n",
       "      <th>5</th>\n",
       "      <td>2022-01-03</td>\n",
       "      <td>3</td>\n",
       "      <td>600</td>\n",
       "    </tr>\n",
       "    <tr>\n",
       "      <th>6</th>\n",
       "      <td>2022-01-02</td>\n",
       "      <td>1</td>\n",
       "      <td>700</td>\n",
       "    </tr>\n",
       "  </tbody>\n",
       "</table>\n",
       "</div>"
      ],
      "text/plain": [
       "         date  client_id  amount\n",
       "0  2022-01-01          1     100\n",
       "1  2022-01-02          1     200\n",
       "2  2022-01-03          2     300\n",
       "3  2022-01-01          2     400\n",
       "4  2022-01-02          3     500\n",
       "5  2022-01-03          3     600\n",
       "6  2022-01-02          1     700"
      ]
     },
     "execution_count": 37,
     "metadata": {},
     "output_type": "execute_result"
    }
   ],
   "source": [
    "data = {\n",
    "    'date': ['2022-01-01', '2022-01-02', '2022-01-03', '2022-01-01', '2022-01-02', '2022-01-03', '2022-01-02'],\n",
    "    'client_id': [1,1,2,2,3,3,1],\n",
    "    'amount': [100, 200, 300, 400, 500, 600, 700]\n",
    "}\n",
    "df = pd.DataFrame(data)\n",
    "df"
   ]
  },
  {
   "cell_type": "code",
   "execution_count": 39,
   "metadata": {},
   "outputs": [
    {
     "name": "stdout",
     "output_type": "stream",
     "text": [
      "[[100, 900, 0], [400, 0, 300], [0, 500, 600]]\n"
     ]
    }
   ],
   "source": [
    "df['date'] = pd.to_datetime(df['date'])\n",
    "min_date = df['date'].min()\n",
    "max_date = df['date'].max()\n",
    "\n",
    "trans = df.groupby(['client_id', 'date'])['amount'].sum().reset_index()\n",
    "\n",
    "trans_pivot = pd.pivot_table(trans, values='amount', index='client_id', columns='date')\n",
    "trans_pivot = trans_pivot.fillna(0.0)\n",
    "\n",
    "# Transform the table to matrix\n",
    "matrix = trans_pivot.values.astype(int).tolist()\n",
    "#matrix\n",
    "\n",
    "# Add zeros for days when client doesnt have transactions\n",
    "for row in matrix:\n",
    "    while len(row) < (max_date - min_date).days + 1:\n",
    "        row.append(0)\n",
    "print(matrix)\n"
   ]
  },
  {
   "cell_type": "code",
   "execution_count": 40,
   "metadata": {},
   "outputs": [],
   "source": [
    "dbf = pd.DataFrame(matrix)"
   ]
  },
  {
   "cell_type": "code",
   "execution_count": 41,
   "metadata": {},
   "outputs": [
    {
     "data": {
      "text/html": [
       "<div>\n",
       "<style scoped>\n",
       "    .dataframe tbody tr th:only-of-type {\n",
       "        vertical-align: middle;\n",
       "    }\n",
       "\n",
       "    .dataframe tbody tr th {\n",
       "        vertical-align: top;\n",
       "    }\n",
       "\n",
       "    .dataframe thead th {\n",
       "        text-align: right;\n",
       "    }\n",
       "</style>\n",
       "<table border=\"1\" class=\"dataframe\">\n",
       "  <thead>\n",
       "    <tr style=\"text-align: right;\">\n",
       "      <th></th>\n",
       "      <th>0</th>\n",
       "      <th>1</th>\n",
       "      <th>2</th>\n",
       "    </tr>\n",
       "  </thead>\n",
       "  <tbody>\n",
       "    <tr>\n",
       "      <th>0</th>\n",
       "      <td>100</td>\n",
       "      <td>900</td>\n",
       "      <td>0</td>\n",
       "    </tr>\n",
       "    <tr>\n",
       "      <th>1</th>\n",
       "      <td>400</td>\n",
       "      <td>0</td>\n",
       "      <td>300</td>\n",
       "    </tr>\n",
       "    <tr>\n",
       "      <th>2</th>\n",
       "      <td>0</td>\n",
       "      <td>500</td>\n",
       "      <td>600</td>\n",
       "    </tr>\n",
       "  </tbody>\n",
       "</table>\n",
       "</div>"
      ],
      "text/plain": [
       "     0    1    2\n",
       "0  100  900    0\n",
       "1  400    0  300\n",
       "2    0  500  600"
      ]
     },
     "execution_count": 41,
     "metadata": {},
     "output_type": "execute_result"
    }
   ],
   "source": [
    "dbf"
   ]
  },
  {
   "cell_type": "code",
   "execution_count": 1,
   "metadata": {},
   "outputs": [],
   "source": [
    "import pandas as pd"
   ]
  },
  {
   "cell_type": "code",
   "execution_count": 39,
   "metadata": {},
   "outputs": [
    {
     "name": "stdout",
     "output_type": "stream",
     "text": [
      "[*********************100%***********************]  1 of 1 completed\n"
     ]
    }
   ],
   "source": [
    "import pandas as pd\n",
    "from pandas_datareader import data as pdr\n",
    "import yfinance as yf\n",
    "yf.pdr_override()\n",
    "\n",
    "\n",
    "# Define the futures contract name and timeframe\n",
    "contract = 'GC=F' \n",
    "#contract = 'UVXY'\n",
    "start = '2023-01-01'\n",
    "end = '2024-01-01'\n",
    "\n",
    "# Download the data\n",
    "df = pdr.get_data_yahoo(contract, start=start, end=end)\n",
    "\n",
    "# Keep only the relevant columns  \n",
    "df = df[['Open', 'High', 'Low', 'Close', 'Volume']]\n",
    "\n",
    "# Output to CSV\n",
    "#df.to_csv('gold_futures.csv')"
   ]
  },
  {
   "cell_type": "code",
   "execution_count": 40,
   "metadata": {},
   "outputs": [],
   "source": [
    "import pandas as pd\n",
    "import yfinance as yf\n",
    "\n",
    "def get_data(ticker: str, start: str, end: str)-> pd.DataFrame:\n",
    "    # Download the data\n",
    "    #df = pdr.get_data_yahoo(tickers=ticker, start=start, end=end)\n",
    "    df = yf.download(ticker, start=start, end=end)\n",
    "\n",
    "    return df\n",
    "\n"
   ]
  },
  {
   "cell_type": "code",
   "execution_count": 41,
   "metadata": {},
   "outputs": [
    {
     "name": "stdout",
     "output_type": "stream",
     "text": [
      "[*********************100%***********************]  1 of 1 completed\n"
     ]
    }
   ],
   "source": [
    "df = get_data(ticker=\"GC=F\", start=\"2023-01-01\", end=\"2024-01-01\")"
   ]
  },
  {
   "cell_type": "code",
   "execution_count": 42,
   "metadata": {},
   "outputs": [
    {
     "data": {
      "text/html": [
       "<div>\n",
       "<style scoped>\n",
       "    .dataframe tbody tr th:only-of-type {\n",
       "        vertical-align: middle;\n",
       "    }\n",
       "\n",
       "    .dataframe tbody tr th {\n",
       "        vertical-align: top;\n",
       "    }\n",
       "\n",
       "    .dataframe thead th {\n",
       "        text-align: right;\n",
       "    }\n",
       "</style>\n",
       "<table border=\"1\" class=\"dataframe\">\n",
       "  <thead>\n",
       "    <tr style=\"text-align: right;\">\n",
       "      <th></th>\n",
       "      <th>Open</th>\n",
       "      <th>High</th>\n",
       "      <th>Low</th>\n",
       "      <th>Close</th>\n",
       "      <th>Adj Close</th>\n",
       "      <th>Volume</th>\n",
       "    </tr>\n",
       "    <tr>\n",
       "      <th>Date</th>\n",
       "      <th></th>\n",
       "      <th></th>\n",
       "      <th></th>\n",
       "      <th></th>\n",
       "      <th></th>\n",
       "      <th></th>\n",
       "    </tr>\n",
       "  </thead>\n",
       "  <tbody>\n",
       "    <tr>\n",
       "      <th>2023-01-03</th>\n",
       "      <td>1836.199951</td>\n",
       "      <td>1839.699951</td>\n",
       "      <td>1836.199951</td>\n",
       "      <td>1839.699951</td>\n",
       "      <td>1839.699951</td>\n",
       "      <td>29</td>\n",
       "    </tr>\n",
       "    <tr>\n",
       "      <th>2023-01-04</th>\n",
       "      <td>1845.599976</td>\n",
       "      <td>1859.099976</td>\n",
       "      <td>1845.599976</td>\n",
       "      <td>1852.800049</td>\n",
       "      <td>1852.800049</td>\n",
       "      <td>25</td>\n",
       "    </tr>\n",
       "    <tr>\n",
       "      <th>2023-01-05</th>\n",
       "      <td>1855.199951</td>\n",
       "      <td>1855.199951</td>\n",
       "      <td>1834.800049</td>\n",
       "      <td>1834.800049</td>\n",
       "      <td>1834.800049</td>\n",
       "      <td>24</td>\n",
       "    </tr>\n",
       "    <tr>\n",
       "      <th>2023-01-06</th>\n",
       "      <td>1838.400024</td>\n",
       "      <td>1868.199951</td>\n",
       "      <td>1835.300049</td>\n",
       "      <td>1864.199951</td>\n",
       "      <td>1864.199951</td>\n",
       "      <td>26</td>\n",
       "    </tr>\n",
       "    <tr>\n",
       "      <th>2023-01-09</th>\n",
       "      <td>1867.000000</td>\n",
       "      <td>1880.000000</td>\n",
       "      <td>1867.000000</td>\n",
       "      <td>1872.699951</td>\n",
       "      <td>1872.699951</td>\n",
       "      <td>62</td>\n",
       "    </tr>\n",
       "  </tbody>\n",
       "</table>\n",
       "</div>"
      ],
      "text/plain": [
       "                   Open         High          Low        Close    Adj Close  \\\n",
       "Date                                                                          \n",
       "2023-01-03  1836.199951  1839.699951  1836.199951  1839.699951  1839.699951   \n",
       "2023-01-04  1845.599976  1859.099976  1845.599976  1852.800049  1852.800049   \n",
       "2023-01-05  1855.199951  1855.199951  1834.800049  1834.800049  1834.800049   \n",
       "2023-01-06  1838.400024  1868.199951  1835.300049  1864.199951  1864.199951   \n",
       "2023-01-09  1867.000000  1880.000000  1867.000000  1872.699951  1872.699951   \n",
       "\n",
       "            Volume  \n",
       "Date                \n",
       "2023-01-03      29  \n",
       "2023-01-04      25  \n",
       "2023-01-05      24  \n",
       "2023-01-06      26  \n",
       "2023-01-09      62  "
      ]
     },
     "execution_count": 42,
     "metadata": {},
     "output_type": "execute_result"
    }
   ],
   "source": [
    "df.head()"
   ]
  },
  {
   "cell_type": "code",
   "execution_count": 43,
   "metadata": {},
   "outputs": [],
   "source": [
    "df[\"diff\"] = df[\"Close\"].pct_change() * 100\n",
    "df = df.fillna(0.0)"
   ]
  },
  {
   "cell_type": "code",
   "execution_count": 44,
   "metadata": {},
   "outputs": [
    {
     "data": {
      "text/html": [
       "<div>\n",
       "<style scoped>\n",
       "    .dataframe tbody tr th:only-of-type {\n",
       "        vertical-align: middle;\n",
       "    }\n",
       "\n",
       "    .dataframe tbody tr th {\n",
       "        vertical-align: top;\n",
       "    }\n",
       "\n",
       "    .dataframe thead th {\n",
       "        text-align: right;\n",
       "    }\n",
       "</style>\n",
       "<table border=\"1\" class=\"dataframe\">\n",
       "  <thead>\n",
       "    <tr style=\"text-align: right;\">\n",
       "      <th></th>\n",
       "      <th>Open</th>\n",
       "      <th>High</th>\n",
       "      <th>Low</th>\n",
       "      <th>Close</th>\n",
       "      <th>Adj Close</th>\n",
       "      <th>Volume</th>\n",
       "      <th>diff</th>\n",
       "    </tr>\n",
       "    <tr>\n",
       "      <th>Date</th>\n",
       "      <th></th>\n",
       "      <th></th>\n",
       "      <th></th>\n",
       "      <th></th>\n",
       "      <th></th>\n",
       "      <th></th>\n",
       "      <th></th>\n",
       "    </tr>\n",
       "  </thead>\n",
       "  <tbody>\n",
       "    <tr>\n",
       "      <th>2023-01-03</th>\n",
       "      <td>1836.199951</td>\n",
       "      <td>1839.699951</td>\n",
       "      <td>1836.199951</td>\n",
       "      <td>1839.699951</td>\n",
       "      <td>1839.699951</td>\n",
       "      <td>29</td>\n",
       "      <td>0.000000</td>\n",
       "    </tr>\n",
       "    <tr>\n",
       "      <th>2023-01-04</th>\n",
       "      <td>1845.599976</td>\n",
       "      <td>1859.099976</td>\n",
       "      <td>1845.599976</td>\n",
       "      <td>1852.800049</td>\n",
       "      <td>1852.800049</td>\n",
       "      <td>25</td>\n",
       "      <td>0.712078</td>\n",
       "    </tr>\n",
       "    <tr>\n",
       "      <th>2023-01-05</th>\n",
       "      <td>1855.199951</td>\n",
       "      <td>1855.199951</td>\n",
       "      <td>1834.800049</td>\n",
       "      <td>1834.800049</td>\n",
       "      <td>1834.800049</td>\n",
       "      <td>24</td>\n",
       "      <td>-0.971503</td>\n",
       "    </tr>\n",
       "    <tr>\n",
       "      <th>2023-01-06</th>\n",
       "      <td>1838.400024</td>\n",
       "      <td>1868.199951</td>\n",
       "      <td>1835.300049</td>\n",
       "      <td>1864.199951</td>\n",
       "      <td>1864.199951</td>\n",
       "      <td>26</td>\n",
       "      <td>1.602349</td>\n",
       "    </tr>\n",
       "    <tr>\n",
       "      <th>2023-01-09</th>\n",
       "      <td>1867.000000</td>\n",
       "      <td>1880.000000</td>\n",
       "      <td>1867.000000</td>\n",
       "      <td>1872.699951</td>\n",
       "      <td>1872.699951</td>\n",
       "      <td>62</td>\n",
       "      <td>0.455960</td>\n",
       "    </tr>\n",
       "  </tbody>\n",
       "</table>\n",
       "</div>"
      ],
      "text/plain": [
       "                   Open         High          Low        Close    Adj Close  \\\n",
       "Date                                                                          \n",
       "2023-01-03  1836.199951  1839.699951  1836.199951  1839.699951  1839.699951   \n",
       "2023-01-04  1845.599976  1859.099976  1845.599976  1852.800049  1852.800049   \n",
       "2023-01-05  1855.199951  1855.199951  1834.800049  1834.800049  1834.800049   \n",
       "2023-01-06  1838.400024  1868.199951  1835.300049  1864.199951  1864.199951   \n",
       "2023-01-09  1867.000000  1880.000000  1867.000000  1872.699951  1872.699951   \n",
       "\n",
       "            Volume      diff  \n",
       "Date                          \n",
       "2023-01-03      29  0.000000  \n",
       "2023-01-04      25  0.712078  \n",
       "2023-01-05      24 -0.971503  \n",
       "2023-01-06      26  1.602349  \n",
       "2023-01-09      62  0.455960  "
      ]
     },
     "execution_count": 44,
     "metadata": {},
     "output_type": "execute_result"
    }
   ],
   "source": [
    "df.head()"
   ]
  },
  {
   "cell_type": "code",
   "execution_count": 31,
   "metadata": {},
   "outputs": [
    {
     "data": {
      "text/plain": [
       "-2.7866212520694877"
      ]
     },
     "execution_count": 31,
     "metadata": {},
     "output_type": "execute_result"
    }
   ],
   "source": [
    "df['diff'].min()"
   ]
  },
  {
   "cell_type": "code",
   "execution_count": 32,
   "metadata": {},
   "outputs": [
    {
     "data": {
      "text/plain": [
       "3.108113950051017"
      ]
     },
     "execution_count": 32,
     "metadata": {},
     "output_type": "execute_result"
    }
   ],
   "source": [
    "df['diff'].max()"
   ]
  },
  {
   "cell_type": "code",
   "execution_count": 45,
   "metadata": {},
   "outputs": [],
   "source": [
    "# Define min and max for input range  \n",
    "input_min = df['diff'].min()  \n",
    "input_max = df['diff'].max()\n",
    "\n",
    "# Define min and max for output range\n",
    "output_min = 1\n",
    "output_max = 64  \n",
    "\n",
    "# Rescale values  \n",
    "df['scaled'] = round(((df['diff'] - input_min) / \n",
    "                   (input_max - input_min)) * \n",
    "                  (output_max - output_min) + output_min)\n",
    "df['scaled'] = df['scaled'].astype(int)\n"
   ]
  },
  {
   "cell_type": "code",
   "execution_count": 36,
   "metadata": {},
   "outputs": [
    {
     "data": {
      "text/html": [
       "<div>\n",
       "<style scoped>\n",
       "    .dataframe tbody tr th:only-of-type {\n",
       "        vertical-align: middle;\n",
       "    }\n",
       "\n",
       "    .dataframe tbody tr th {\n",
       "        vertical-align: top;\n",
       "    }\n",
       "\n",
       "    .dataframe thead th {\n",
       "        text-align: right;\n",
       "    }\n",
       "</style>\n",
       "<table border=\"1\" class=\"dataframe\">\n",
       "  <thead>\n",
       "    <tr style=\"text-align: right;\">\n",
       "      <th></th>\n",
       "      <th>Open</th>\n",
       "      <th>High</th>\n",
       "      <th>Low</th>\n",
       "      <th>Close</th>\n",
       "      <th>Adj Close</th>\n",
       "      <th>Volume</th>\n",
       "      <th>diff</th>\n",
       "      <th>scaled</th>\n",
       "    </tr>\n",
       "    <tr>\n",
       "      <th>Date</th>\n",
       "      <th></th>\n",
       "      <th></th>\n",
       "      <th></th>\n",
       "      <th></th>\n",
       "      <th></th>\n",
       "      <th></th>\n",
       "      <th></th>\n",
       "      <th></th>\n",
       "    </tr>\n",
       "  </thead>\n",
       "  <tbody>\n",
       "    <tr>\n",
       "      <th>2023-01-03</th>\n",
       "      <td>1836.199951</td>\n",
       "      <td>1839.699951</td>\n",
       "      <td>1836.199951</td>\n",
       "      <td>1839.699951</td>\n",
       "      <td>1839.699951</td>\n",
       "      <td>29</td>\n",
       "      <td>0.000000</td>\n",
       "      <td>31</td>\n",
       "    </tr>\n",
       "    <tr>\n",
       "      <th>2023-01-04</th>\n",
       "      <td>1845.599976</td>\n",
       "      <td>1859.099976</td>\n",
       "      <td>1845.599976</td>\n",
       "      <td>1852.800049</td>\n",
       "      <td>1852.800049</td>\n",
       "      <td>25</td>\n",
       "      <td>0.712078</td>\n",
       "      <td>38</td>\n",
       "    </tr>\n",
       "    <tr>\n",
       "      <th>2023-01-05</th>\n",
       "      <td>1855.199951</td>\n",
       "      <td>1855.199951</td>\n",
       "      <td>1834.800049</td>\n",
       "      <td>1834.800049</td>\n",
       "      <td>1834.800049</td>\n",
       "      <td>24</td>\n",
       "      <td>-0.971503</td>\n",
       "      <td>20</td>\n",
       "    </tr>\n",
       "    <tr>\n",
       "      <th>2023-01-06</th>\n",
       "      <td>1838.400024</td>\n",
       "      <td>1868.199951</td>\n",
       "      <td>1835.300049</td>\n",
       "      <td>1864.199951</td>\n",
       "      <td>1864.199951</td>\n",
       "      <td>26</td>\n",
       "      <td>1.602349</td>\n",
       "      <td>48</td>\n",
       "    </tr>\n",
       "    <tr>\n",
       "      <th>2023-01-09</th>\n",
       "      <td>1867.000000</td>\n",
       "      <td>1880.000000</td>\n",
       "      <td>1867.000000</td>\n",
       "      <td>1872.699951</td>\n",
       "      <td>1872.699951</td>\n",
       "      <td>62</td>\n",
       "      <td>0.455960</td>\n",
       "      <td>36</td>\n",
       "    </tr>\n",
       "  </tbody>\n",
       "</table>\n",
       "</div>"
      ],
      "text/plain": [
       "                   Open         High          Low        Close    Adj Close  \\\n",
       "Date                                                                          \n",
       "2023-01-03  1836.199951  1839.699951  1836.199951  1839.699951  1839.699951   \n",
       "2023-01-04  1845.599976  1859.099976  1845.599976  1852.800049  1852.800049   \n",
       "2023-01-05  1855.199951  1855.199951  1834.800049  1834.800049  1834.800049   \n",
       "2023-01-06  1838.400024  1868.199951  1835.300049  1864.199951  1864.199951   \n",
       "2023-01-09  1867.000000  1880.000000  1867.000000  1872.699951  1872.699951   \n",
       "\n",
       "            Volume      diff  scaled  \n",
       "Date                                  \n",
       "2023-01-03      29  0.000000      31  \n",
       "2023-01-04      25  0.712078      38  \n",
       "2023-01-05      24 -0.971503      20  \n",
       "2023-01-06      26  1.602349      48  \n",
       "2023-01-09      62  0.455960      36  "
      ]
     },
     "execution_count": 36,
     "metadata": {},
     "output_type": "execute_result"
    }
   ],
   "source": [
    "df.head()"
   ]
  },
  {
   "cell_type": "code",
   "execution_count": null,
   "metadata": {},
   "outputs": [],
   "source": []
  },
  {
   "cell_type": "code",
   "execution_count": 46,
   "metadata": {},
   "outputs": [
    {
     "name": "stdout",
     "output_type": "stream",
     "text": [
      "                                                 vec                 label\n",
      "0  [31, 38, 20, 48, 36, 30, 32, 43, 44, 25, 29, 4...  [30, 26, 19, 39, 34]\n",
      "1  [38, 20, 48, 36, 30, 32, 43, 44, 25, 29, 41, 3...  [26, 19, 39, 34, 47]\n",
      "2  [20, 48, 36, 30, 32, 43, 44, 25, 29, 41, 33, 3...  [19, 39, 34, 47, 10]\n",
      "3  [48, 36, 30, 32, 43, 44, 25, 29, 41, 33, 31, 3...  [39, 34, 47, 10, 27]\n",
      "4  [36, 30, 32, 43, 44, 25, 29, 41, 33, 31, 35, 3...  [34, 47, 10, 27, 38]\n"
     ]
    }
   ],
   "source": [
    "# # Prepare timeseries for ML \n",
    "\n",
    "# import pandas as pd\n",
    "# import numpy as np\n",
    "\n",
    "# # Generate sample timeseries  \n",
    "# N = 1000\n",
    "# series = np.random.randint(0, 10, size=N)  \n",
    "\n",
    "series = df['scaled']\n",
    "\n",
    "num_steps = 64 \n",
    "num_labels = 5\n",
    "\n",
    "data = []\n",
    "labels = []\n",
    "\n",
    "# Iterate over series \n",
    "for i in range(len(series) - num_steps - num_labels + 1):\n",
    "    vec = series[i:i+num_steps]\n",
    "    label = series[i+num_steps:i+num_steps+num_labels]\n",
    "    \n",
    "    # Append to lists\n",
    "    data.append(list(vec))  \n",
    "    labels.append(list(label))\n",
    "    \n",
    "# Create dataframe    \n",
    "df = pd.DataFrame()\n",
    "df['vec'] = data\n",
    "df['label'] = labels\n",
    "\n",
    "print(df.head())\n"
   ]
  },
  {
   "cell_type": "code",
   "execution_count": 47,
   "metadata": {},
   "outputs": [],
   "source": [
    "df.to_parquet(\"gc.parquet\", index=False)"
   ]
  },
  {
   "cell_type": "code",
   "execution_count": 49,
   "metadata": {},
   "outputs": [
    {
     "data": {
      "text/plain": [
       "(183, 2)"
      ]
     },
     "execution_count": 49,
     "metadata": {},
     "output_type": "execute_result"
    }
   ],
   "source": [
    "df.shape"
   ]
  },
  {
   "cell_type": "code",
   "execution_count": 50,
   "metadata": {},
   "outputs": [],
   "source": [
    "df = pd.read_parquet(\"gc.parquet\")"
   ]
  },
  {
   "cell_type": "code",
   "execution_count": 62,
   "metadata": {},
   "outputs": [],
   "source": [
    "# 6S\n",
    "import numpy as np\n",
    "import torch\n",
    "import torch.nn as nn\n",
    "from tqdm import tqdm\n",
    "\n",
    "\n",
    "class SSMSelection(nn.Module):\n",
    "    def __init__(self, input_dim, hidden_dim):\n",
    "        super().__init__()\n",
    "        \n",
    "        self.input_dim = input_dim\n",
    "        self.hidden_dim = hidden_dim\n",
    "        \n",
    "        self.A = nn.Linear(input_dim, hidden_dim) \n",
    "        self.B = nn.Linear(input_dim, hidden_dim)\n",
    "        self.C = nn.Linear(hidden_dim, 4)\n",
    "        \n",
    "    def forward(self, x):\n",
    "        batch_size, seq_len = x.shape\n",
    "        \n",
    "        A = self.A(x) # (batch_size, seq_len, hidden_dim)\n",
    "        B = self.B(x) # (batch_size, seq_len, hidden_dim)\n",
    "        C = self.C(x) # (batch_size, seq_len, 4)\n",
    "        \n",
    "        h = torch.zeros(batch_size, seq_len, self.hidden_dim)\n",
    "        y = torch.zeros(batch_size, seq_len, 4)\n",
    "        \n",
    "        for t in range(seq_len):\n",
    "            h[:,t,:] = A[:,t,:] * h[:,t,:] + B[:,t,:] * x[:,t,:] \n",
    "            y[:,t,:] = C[:,t,:] * h[:,t,:]\n",
    "            \n",
    "        return y\n"
   ]
  },
  {
   "cell_type": "code",
   "execution_count": 54,
   "metadata": {},
   "outputs": [],
   "source": [
    "input_dims = 64\n",
    "hidden_dims = 64\n",
    "output_dims = 5\n"
   ]
  },
  {
   "cell_type": "code",
   "execution_count": null,
   "metadata": {},
   "outputs": [],
   "source": [
    "model = SSMSelection(input_dim=64, hidden_dim=64)\n",
    "\n",
    "x = # (batch_size, 20) batch of 20-dim input vectors \n",
    "y = model(x) # (batch_size, 20, 4) predicted 4-dim label vectors\n",
    "\n"
   ]
  },
  {
   "cell_type": "code",
   "execution_count": 55,
   "metadata": {},
   "outputs": [],
   "source": [
    "X_t = torch.randn(10, input_dims)"
   ]
  },
  {
   "cell_type": "code",
   "execution_count": 56,
   "metadata": {},
   "outputs": [
    {
     "data": {
      "text/plain": [
       "torch.Size([10, 64])"
      ]
     },
     "execution_count": 56,
     "metadata": {},
     "output_type": "execute_result"
    }
   ],
   "source": [
    "X_t.shape"
   ]
  },
  {
   "cell_type": "code",
   "execution_count": 70,
   "metadata": {},
   "outputs": [],
   "source": [
    "arr_x = np.array(df[\"vec\"].tolist())\n",
    "arr_y = np.array(df[\"label\"].tolist())"
   ]
  },
  {
   "cell_type": "code",
   "execution_count": 71,
   "metadata": {},
   "outputs": [],
   "source": [
    "X = torch.from_numpy(arr_x)\n",
    "y = torch.from_numpy(arr_y)"
   ]
  },
  {
   "cell_type": "code",
   "execution_count": 66,
   "metadata": {},
   "outputs": [
    {
     "data": {
      "text/plain": [
       "tensor([[31, 38, 20,  ..., 25, 39, 51],\n",
       "        [38, 20, 48,  ..., 39, 51, 30],\n",
       "        [20, 48, 36,  ..., 51, 30, 26],\n",
       "        ...,\n",
       "        [16, 34, 26,  ..., 26, 34, 37],\n",
       "        [34, 26, 22,  ..., 34, 37, 29],\n",
       "        [26, 22, 15,  ..., 37, 29, 33]])"
      ]
     },
     "execution_count": 66,
     "metadata": {},
     "output_type": "execute_result"
    }
   ],
   "source": [
    "X"
   ]
  },
  {
   "cell_type": "code",
   "execution_count": 72,
   "metadata": {},
   "outputs": [
    {
     "data": {
      "text/plain": [
       "tensor([[30, 26, 19, 39, 34],\n",
       "        [26, 19, 39, 34, 47],\n",
       "        [19, 39, 34, 47, 10],\n",
       "        [39, 34, 47, 10, 27],\n",
       "        [34, 47, 10, 27, 38],\n",
       "        [47, 10, 27, 38, 24],\n",
       "        [10, 27, 38, 24, 37],\n",
       "        [27, 38, 24, 37, 16],\n",
       "        [38, 24, 37, 16, 36],\n",
       "        [24, 37, 16, 36, 33],\n",
       "        [37, 16, 36, 33, 26],\n",
       "        [16, 36, 33, 26, 33],\n",
       "        [36, 33, 26, 33, 31],\n",
       "        [33, 26, 33, 31, 27],\n",
       "        [26, 33, 31, 27, 47],\n",
       "        [33, 31, 27, 47, 38],\n",
       "        [31, 27, 47, 38, 41],\n",
       "        [27, 47, 38, 41, 15],\n",
       "        [47, 38, 41, 15, 35],\n",
       "        [38, 41, 15, 35, 36],\n",
       "        [41, 15, 35, 36, 28],\n",
       "        [15, 35, 36, 28, 22],\n",
       "        [35, 36, 28, 22, 31],\n",
       "        [36, 28, 22, 31, 33],\n",
       "        [28, 22, 31, 33, 15],\n",
       "        [22, 31, 33, 15, 27],\n",
       "        [31, 33, 15, 27, 18],\n",
       "        [33, 15, 27, 18, 43],\n",
       "        [15, 27, 18, 43, 29],\n",
       "        [27, 18, 43, 29, 29],\n",
       "        [18, 43, 29, 29, 26],\n",
       "        [43, 29, 29, 26, 20],\n",
       "        [29, 29, 26, 20, 31],\n",
       "        [29, 26, 20, 31, 38],\n",
       "        [26, 20, 31, 38, 34],\n",
       "        [20, 31, 38, 34, 38],\n",
       "        [31, 38, 34, 38, 17],\n",
       "        [38, 34, 38, 17, 34],\n",
       "        [34, 38, 17, 34, 35],\n",
       "        [38, 17, 34, 35, 18],\n",
       "        [17, 34, 35, 18, 42],\n",
       "        [34, 35, 18, 42, 30],\n",
       "        [35, 18, 42, 30, 27],\n",
       "        [18, 42, 30, 27, 25],\n",
       "        [42, 30, 27, 25, 37],\n",
       "        [30, 27, 25, 37, 32],\n",
       "        [27, 25, 37, 32, 31],\n",
       "        [25, 37, 32, 31, 18],\n",
       "        [37, 32, 31, 18, 30],\n",
       "        [32, 31, 18, 30, 19],\n",
       "        [31, 18, 30, 19, 34],\n",
       "        [18, 30, 19, 34, 33],\n",
       "        [30, 19, 34, 33, 25],\n",
       "        [19, 34, 33, 25, 30],\n",
       "        [34, 33, 25, 30, 29],\n",
       "        [33, 25, 30, 29, 37],\n",
       "        [25, 30, 29, 37, 31],\n",
       "        [30, 29, 37, 31, 30],\n",
       "        [29, 37, 31, 30, 25],\n",
       "        [37, 31, 30, 25, 41],\n",
       "        [31, 30, 25, 41, 30],\n",
       "        [30, 25, 41, 30, 34],\n",
       "        [25, 41, 30, 34, 45],\n",
       "        [41, 30, 34, 45, 32],\n",
       "        [30, 34, 45, 32, 31],\n",
       "        [34, 45, 32, 31, 27],\n",
       "        [45, 32, 31, 27, 44],\n",
       "        [32, 31, 27, 44, 31],\n",
       "        [31, 27, 44, 31, 26],\n",
       "        [27, 44, 31, 26, 29],\n",
       "        [44, 31, 26, 29, 29],\n",
       "        [31, 26, 29, 29, 32],\n",
       "        [26, 29, 29, 32, 34],\n",
       "        [29, 29, 32, 34, 18],\n",
       "        [29, 32, 34, 18, 39],\n",
       "        [32, 34, 18, 39, 36],\n",
       "        [34, 18, 39, 36, 15],\n",
       "        [18, 39, 36, 15, 29],\n",
       "        [39, 36, 15, 29, 28],\n",
       "        [36, 15, 29, 28, 35],\n",
       "        [15, 29, 28, 35, 27],\n",
       "        [29, 28, 35, 27, 26],\n",
       "        [28, 35, 27, 26, 26],\n",
       "        [35, 27, 26, 26, 30],\n",
       "        [27, 26, 26, 30, 30],\n",
       "        [26, 26, 30, 30, 29],\n",
       "        [26, 30, 30, 29, 26],\n",
       "        [30, 30, 29, 26, 27],\n",
       "        [30, 29, 26, 27, 24],\n",
       "        [29, 26, 27, 24, 32],\n",
       "        [26, 27, 24, 32, 35],\n",
       "        [27, 24, 32, 35, 33],\n",
       "        [24, 32, 35, 33, 43],\n",
       "        [32, 35, 33, 43, 31],\n",
       "        [35, 33, 43, 31, 27],\n",
       "        [33, 43, 31, 27, 35],\n",
       "        [43, 31, 27, 35, 41],\n",
       "        [31, 27, 35, 41, 35],\n",
       "        [27, 35, 41, 35, 27],\n",
       "        [35, 41, 35, 27, 32],\n",
       "        [41, 35, 27, 32, 23],\n",
       "        [35, 27, 32, 23, 26],\n",
       "        [27, 32, 23, 26, 30],\n",
       "        [32, 23, 26, 30, 31],\n",
       "        [23, 26, 30, 31, 34],\n",
       "        [26, 30, 31, 34, 24],\n",
       "        [30, 31, 34, 24, 30],\n",
       "        [31, 34, 24, 30, 31],\n",
       "        [34, 24, 30, 31, 38],\n",
       "        [24, 30, 31, 38, 35],\n",
       "        [30, 31, 38, 35, 31],\n",
       "        [31, 38, 35, 31, 38],\n",
       "        [38, 35, 31, 38, 16],\n",
       "        [35, 31, 38, 16, 34],\n",
       "        [31, 38, 16, 34, 26],\n",
       "        [38, 16, 34, 26, 22],\n",
       "        [16, 34, 26, 22, 15],\n",
       "        [34, 26, 22, 15, 24],\n",
       "        [26, 22, 15, 24, 24],\n",
       "        [22, 15, 24, 24, 20],\n",
       "        [15, 24, 24, 20, 28],\n",
       "        [24, 24, 20, 28, 27],\n",
       "        [24, 20, 28, 27, 30],\n",
       "        [20, 28, 27, 30, 39],\n",
       "        [28, 27, 30, 39, 42],\n",
       "        [27, 30, 39, 42, 37],\n",
       "        [30, 39, 42, 37, 38],\n",
       "        [39, 42, 37, 38, 29],\n",
       "        [42, 37, 38, 29, 64],\n",
       "        [37, 38, 29, 64, 27],\n",
       "        [38, 29, 64, 27, 32],\n",
       "        [29, 64, 27, 32, 49],\n",
       "        [64, 27, 32, 49, 38],\n",
       "        [27, 32, 49, 38, 38],\n",
       "        [32, 49, 38, 38, 27],\n",
       "        [49, 38, 38, 27, 30],\n",
       "        [38, 38, 27, 30, 36],\n",
       "        [38, 27, 30, 36, 32],\n",
       "        [27, 30, 36, 32, 32],\n",
       "        [30, 36, 32, 32, 35],\n",
       "        [36, 32, 32, 35, 25],\n",
       "        [32, 32, 35, 25, 27],\n",
       "        [32, 35, 25, 27, 34],\n",
       "        [35, 25, 27, 34, 34],\n",
       "        [25, 27, 34, 34, 25],\n",
       "        [27, 34, 34, 25, 23],\n",
       "        [34, 34, 25, 23, 22],\n",
       "        [34, 25, 23, 22, 38],\n",
       "        [25, 23, 22, 38, 14],\n",
       "        [23, 22, 38, 14, 38],\n",
       "        [22, 38, 14, 38, 40],\n",
       "        [38, 14, 38, 40, 30],\n",
       "        [14, 38, 40, 30, 44],\n",
       "        [38, 40, 30, 44, 30],\n",
       "        [40, 30, 44, 30, 29],\n",
       "        [30, 44, 30, 29, 42],\n",
       "        [44, 30, 29, 42, 27],\n",
       "        [30, 29, 42, 27, 31],\n",
       "        [29, 42, 27, 31, 37],\n",
       "        [42, 27, 31, 37, 36],\n",
       "        [27, 31, 37, 36, 46],\n",
       "        [31, 37, 36, 46, 35],\n",
       "        [37, 36, 46, 35, 26],\n",
       "        [36, 46, 35, 26, 48],\n",
       "        [46, 35, 26, 48,  7],\n",
       "        [35, 26, 48,  7, 28],\n",
       "        [26, 48,  7, 28, 37],\n",
       "        [48,  7, 28, 37, 30],\n",
       "        [ 7, 28, 37, 30, 14],\n",
       "        [28, 37, 30, 14, 20],\n",
       "        [37, 30, 14, 20, 31],\n",
       "        [30, 14, 20, 31, 33],\n",
       "        [14, 20, 31, 33, 57],\n",
       "        [20, 31, 33, 57, 26],\n",
       "        [31, 33, 57, 26, 34],\n",
       "        [33, 57, 26, 34, 37],\n",
       "        [57, 26, 34, 37, 29],\n",
       "        [26, 34, 37, 29, 33],\n",
       "        [34, 37, 29, 33, 40],\n",
       "        [37, 29, 33, 40, 31],\n",
       "        [29, 33, 40, 31, 43],\n",
       "        [33, 40, 31, 43, 27],\n",
       "        [40, 31, 43, 27, 25]])"
      ]
     },
     "execution_count": 72,
     "metadata": {},
     "output_type": "execute_result"
    }
   ],
   "source": [
    "y"
   ]
  },
  {
   "cell_type": "code",
   "execution_count": 67,
   "metadata": {},
   "outputs": [
    {
     "data": {
      "text/plain": [
       "torch.Size([183, 64])"
      ]
     },
     "execution_count": 67,
     "metadata": {},
     "output_type": "execute_result"
    }
   ],
   "source": [
    "X.shape"
   ]
  },
  {
   "cell_type": "code",
   "execution_count": null,
   "metadata": {},
   "outputs": [],
   "source": []
  }
 ],
 "metadata": {
  "kernelspec": {
   "display_name": "base",
   "language": "python",
   "name": "python3"
  },
  "language_info": {
   "codemirror_mode": {
    "name": "ipython",
    "version": 3
   },
   "file_extension": ".py",
   "mimetype": "text/x-python",
   "name": "python",
   "nbconvert_exporter": "python",
   "pygments_lexer": "ipython3",
   "version": "3.9.13"
  }
 },
 "nbformat": 4,
 "nbformat_minor": 2
}
