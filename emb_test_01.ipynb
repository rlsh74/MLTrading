{
 "cells": [
  {
   "cell_type": "code",
   "execution_count": 1,
   "metadata": {},
   "outputs": [],
   "source": [
    "class SparseVector:\n",
    "    def __init__(self, nums: list[int]):\n",
    "        self.nums = nums\n",
    "        self.indices = [i for i in range(len(nums)) if nums[i] != 0]\n",
    "\n",
    "    def dot_product(self, vec: 'SparseVector') -> int:\n",
    "        result = 0\n",
    "        i = 0\n",
    "        j = 0\n",
    "        while i < len(self.indices) and j < len(vec.indices):\n",
    "            if self.indices[i] == vec.indices[j]:\n",
    "                result += self.nums[self.indices[i]] * vec.nums[vec.indices[j]]\n",
    "                i += 1\n",
    "                j += 1\n",
    "            elif self.indices[i] < vec.indices[j]:\n",
    "                i += 1\n",
    "            else:\n",
    "                j += 1\n",
    "        return result"
   ]
  },
  {
   "cell_type": "code",
   "execution_count": 2,
   "metadata": {},
   "outputs": [],
   "source": [
    "nums1 = [0,0,3,40,0,0,0,5,0]\n",
    "nums2 = [1,0,0,2,0,14,0,0,0]\n",
    "vec1 = SparseVector(nums1)\n",
    "vec2 = SparseVector(nums2)\n",
    "result = vec1.dot_product(vec2)\n"
   ]
  },
  {
   "cell_type": "code",
   "execution_count": 3,
   "metadata": {},
   "outputs": [
    {
     "data": {
      "text/plain": [
       "80"
      ]
     },
     "execution_count": 3,
     "metadata": {},
     "output_type": "execute_result"
    }
   ],
   "source": [
    "result"
   ]
  },
  {
   "cell_type": "code",
   "execution_count": 4,
   "metadata": {},
   "outputs": [],
   "source": [
    "import pandas as pd\n",
    "import numpy as np"
   ]
  },
  {
   "cell_type": "code",
   "execution_count": 7,
   "metadata": {},
   "outputs": [
    {
     "data": {
      "text/html": [
       "<div>\n",
       "<style scoped>\n",
       "    .dataframe tbody tr th:only-of-type {\n",
       "        vertical-align: middle;\n",
       "    }\n",
       "\n",
       "    .dataframe tbody tr th {\n",
       "        vertical-align: top;\n",
       "    }\n",
       "\n",
       "    .dataframe thead th {\n",
       "        text-align: right;\n",
       "    }\n",
       "</style>\n",
       "<table border=\"1\" class=\"dataframe\">\n",
       "  <thead>\n",
       "    <tr style=\"text-align: right;\">\n",
       "      <th></th>\n",
       "      <th>customer_global_rk</th>\n",
       "      <th>trans_dt</th>\n",
       "      <th>trans_amt</th>\n",
       "    </tr>\n",
       "  </thead>\n",
       "  <tbody>\n",
       "    <tr>\n",
       "      <th>0</th>\n",
       "      <td>110</td>\n",
       "      <td>2023-01-01</td>\n",
       "      <td>123</td>\n",
       "    </tr>\n",
       "    <tr>\n",
       "      <th>1</th>\n",
       "      <td>110</td>\n",
       "      <td>2023-01-01</td>\n",
       "      <td>235</td>\n",
       "    </tr>\n",
       "    <tr>\n",
       "      <th>2</th>\n",
       "      <td>110</td>\n",
       "      <td>2023-01-03</td>\n",
       "      <td>345</td>\n",
       "    </tr>\n",
       "    <tr>\n",
       "      <th>3</th>\n",
       "      <td>111</td>\n",
       "      <td>2023-01-04</td>\n",
       "      <td>654</td>\n",
       "    </tr>\n",
       "    <tr>\n",
       "      <th>4</th>\n",
       "      <td>111</td>\n",
       "      <td>2023-01-05</td>\n",
       "      <td>229</td>\n",
       "    </tr>\n",
       "    <tr>\n",
       "      <th>5</th>\n",
       "      <td>111</td>\n",
       "      <td>2023-01-08</td>\n",
       "      <td>345</td>\n",
       "    </tr>\n",
       "    <tr>\n",
       "      <th>6</th>\n",
       "      <td>112</td>\n",
       "      <td>2023-01-01</td>\n",
       "      <td>212</td>\n",
       "    </tr>\n",
       "    <tr>\n",
       "      <th>7</th>\n",
       "      <td>112</td>\n",
       "      <td>2023-01-02</td>\n",
       "      <td>334</td>\n",
       "    </tr>\n",
       "    <tr>\n",
       "      <th>8</th>\n",
       "      <td>113</td>\n",
       "      <td>2023-01-09</td>\n",
       "      <td>789</td>\n",
       "    </tr>\n",
       "    <tr>\n",
       "      <th>9</th>\n",
       "      <td>113</td>\n",
       "      <td>2023-01-10</td>\n",
       "      <td>200</td>\n",
       "    </tr>\n",
       "    <tr>\n",
       "      <th>10</th>\n",
       "      <td>113</td>\n",
       "      <td>2023-01-12</td>\n",
       "      <td>557</td>\n",
       "    </tr>\n",
       "  </tbody>\n",
       "</table>\n",
       "</div>"
      ],
      "text/plain": [
       "    customer_global_rk    trans_dt  trans_amt\n",
       "0                  110  2023-01-01        123\n",
       "1                  110  2023-01-01        235\n",
       "2                  110  2023-01-03        345\n",
       "3                  111  2023-01-04        654\n",
       "4                  111  2023-01-05        229\n",
       "5                  111  2023-01-08        345\n",
       "6                  112  2023-01-01        212\n",
       "7                  112  2023-01-02        334\n",
       "8                  113  2023-01-09        789\n",
       "9                  113  2023-01-10        200\n",
       "10                 113  2023-01-12        557"
      ]
     },
     "execution_count": 7,
     "metadata": {},
     "output_type": "execute_result"
    }
   ],
   "source": [
    "data = {\n",
    "    \"customer_global_rk\": [110, 110, 110, 111, 111, 111, 112, 112, 113, 113, 113],\n",
    "    \"trans_dt\": [\"2023-01-01\", \"2023-01-01\", \"2023-01-03\", \"2023-01-04\", \"2023-01-05\", \"2023-01-08\", \"2023-01-01\", \"2023-01-02\", \"2023-01-09\", \"2023-01-10\", \"2023-01-12\"],\n",
    "    \"trans_amt\": [123, 235, 345, 654, 229, 345, 212, 334, 789, 200, 557]\n",
    "}\n",
    "df = pd.DataFrame(data)\n"
   ]
  },
  {
   "cell_type": "code",
   "execution_count": 8,
   "metadata": {},
   "outputs": [],
   "source": [
    "a1 = df.groupby([\"customer_global_rk\", \"trans_dt\"])[\"trans_amt\"].sum()"
   ]
  },
  {
   "cell_type": "code",
   "execution_count": 9,
   "metadata": {},
   "outputs": [
    {
     "data": {
      "text/plain": [
       "customer_global_rk  trans_dt  \n",
       "110                 2023-01-01    358\n",
       "                    2023-01-03    345\n",
       "111                 2023-01-04    654\n",
       "                    2023-01-05    229\n",
       "                    2023-01-08    345\n",
       "112                 2023-01-01    212\n",
       "                    2023-01-02    334\n",
       "113                 2023-01-09    789\n",
       "                    2023-01-10    200\n",
       "                    2023-01-12    557\n",
       "Name: trans_amt, dtype: int64"
      ]
     },
     "execution_count": 9,
     "metadata": {},
     "output_type": "execute_result"
    }
   ],
   "source": [
    "a1"
   ]
  },
  {
   "cell_type": "code",
   "execution_count": 37,
   "metadata": {},
   "outputs": [
    {
     "data": {
      "text/html": [
       "<div>\n",
       "<style scoped>\n",
       "    .dataframe tbody tr th:only-of-type {\n",
       "        vertical-align: middle;\n",
       "    }\n",
       "\n",
       "    .dataframe tbody tr th {\n",
       "        vertical-align: top;\n",
       "    }\n",
       "\n",
       "    .dataframe thead th {\n",
       "        text-align: right;\n",
       "    }\n",
       "</style>\n",
       "<table border=\"1\" class=\"dataframe\">\n",
       "  <thead>\n",
       "    <tr style=\"text-align: right;\">\n",
       "      <th></th>\n",
       "      <th>date</th>\n",
       "      <th>client_id</th>\n",
       "      <th>amount</th>\n",
       "    </tr>\n",
       "  </thead>\n",
       "  <tbody>\n",
       "    <tr>\n",
       "      <th>0</th>\n",
       "      <td>2022-01-01</td>\n",
       "      <td>1</td>\n",
       "      <td>100</td>\n",
       "    </tr>\n",
       "    <tr>\n",
       "      <th>1</th>\n",
       "      <td>2022-01-02</td>\n",
       "      <td>1</td>\n",
       "      <td>200</td>\n",
       "    </tr>\n",
       "    <tr>\n",
       "      <th>2</th>\n",
       "      <td>2022-01-03</td>\n",
       "      <td>2</td>\n",
       "      <td>300</td>\n",
       "    </tr>\n",
       "    <tr>\n",
       "      <th>3</th>\n",
       "      <td>2022-01-01</td>\n",
       "      <td>2</td>\n",
       "      <td>400</td>\n",
       "    </tr>\n",
       "    <tr>\n",
       "      <th>4</th>\n",
       "      <td>2022-01-02</td>\n",
       "      <td>3</td>\n",
       "      <td>500</td>\n",
       "    </tr>\n",
       "    <tr>\n",
       "      <th>5</th>\n",
       "      <td>2022-01-03</td>\n",
       "      <td>3</td>\n",
       "      <td>600</td>\n",
       "    </tr>\n",
       "    <tr>\n",
       "      <th>6</th>\n",
       "      <td>2022-01-02</td>\n",
       "      <td>1</td>\n",
       "      <td>700</td>\n",
       "    </tr>\n",
       "  </tbody>\n",
       "</table>\n",
       "</div>"
      ],
      "text/plain": [
       "         date  client_id  amount\n",
       "0  2022-01-01          1     100\n",
       "1  2022-01-02          1     200\n",
       "2  2022-01-03          2     300\n",
       "3  2022-01-01          2     400\n",
       "4  2022-01-02          3     500\n",
       "5  2022-01-03          3     600\n",
       "6  2022-01-02          1     700"
      ]
     },
     "execution_count": 37,
     "metadata": {},
     "output_type": "execute_result"
    }
   ],
   "source": [
    "data = {\n",
    "    'date': ['2022-01-01', '2022-01-02', '2022-01-03', '2022-01-01', '2022-01-02', '2022-01-03', '2022-01-02'],\n",
    "    'client_id': [1,1,2,2,3,3,1],\n",
    "    'amount': [100, 200, 300, 400, 500, 600, 700]\n",
    "}\n",
    "df = pd.DataFrame(data)\n",
    "df"
   ]
  },
  {
   "cell_type": "code",
   "execution_count": 39,
   "metadata": {},
   "outputs": [
    {
     "name": "stdout",
     "output_type": "stream",
     "text": [
      "[[100, 900, 0], [400, 0, 300], [0, 500, 600]]\n"
     ]
    }
   ],
   "source": [
    "df['date'] = pd.to_datetime(df['date'])\n",
    "min_date = df['date'].min()\n",
    "max_date = df['date'].max()\n",
    "\n",
    "trans = df.groupby(['client_id', 'date'])['amount'].sum().reset_index()\n",
    "\n",
    "trans_pivot = pd.pivot_table(trans, values='amount', index='client_id', columns='date')\n",
    "trans_pivot = trans_pivot.fillna(0.0)\n",
    "\n",
    "# Transform the table to matrix\n",
    "matrix = trans_pivot.values.astype(int).tolist()\n",
    "#matrix\n",
    "\n",
    "# Add zeros for days when client doesnt have transactions\n",
    "for row in matrix:\n",
    "    while len(row) < (max_date - min_date).days + 1:\n",
    "        row.append(0)\n",
    "print(matrix)\n"
   ]
  },
  {
   "cell_type": "code",
   "execution_count": 40,
   "metadata": {},
   "outputs": [],
   "source": [
    "dbf = pd.DataFrame(matrix)"
   ]
  },
  {
   "cell_type": "code",
   "execution_count": 41,
   "metadata": {},
   "outputs": [
    {
     "data": {
      "text/html": [
       "<div>\n",
       "<style scoped>\n",
       "    .dataframe tbody tr th:only-of-type {\n",
       "        vertical-align: middle;\n",
       "    }\n",
       "\n",
       "    .dataframe tbody tr th {\n",
       "        vertical-align: top;\n",
       "    }\n",
       "\n",
       "    .dataframe thead th {\n",
       "        text-align: right;\n",
       "    }\n",
       "</style>\n",
       "<table border=\"1\" class=\"dataframe\">\n",
       "  <thead>\n",
       "    <tr style=\"text-align: right;\">\n",
       "      <th></th>\n",
       "      <th>0</th>\n",
       "      <th>1</th>\n",
       "      <th>2</th>\n",
       "    </tr>\n",
       "  </thead>\n",
       "  <tbody>\n",
       "    <tr>\n",
       "      <th>0</th>\n",
       "      <td>100</td>\n",
       "      <td>900</td>\n",
       "      <td>0</td>\n",
       "    </tr>\n",
       "    <tr>\n",
       "      <th>1</th>\n",
       "      <td>400</td>\n",
       "      <td>0</td>\n",
       "      <td>300</td>\n",
       "    </tr>\n",
       "    <tr>\n",
       "      <th>2</th>\n",
       "      <td>0</td>\n",
       "      <td>500</td>\n",
       "      <td>600</td>\n",
       "    </tr>\n",
       "  </tbody>\n",
       "</table>\n",
       "</div>"
      ],
      "text/plain": [
       "     0    1    2\n",
       "0  100  900    0\n",
       "1  400    0  300\n",
       "2    0  500  600"
      ]
     },
     "execution_count": 41,
     "metadata": {},
     "output_type": "execute_result"
    }
   ],
   "source": [
    "dbf"
   ]
  },
  {
   "cell_type": "code",
   "execution_count": 1,
   "metadata": {},
   "outputs": [],
   "source": [
    "import pandas as pd"
   ]
  },
  {
   "cell_type": "code",
   "execution_count": 6,
   "metadata": {},
   "outputs": [
    {
     "name": "stdout",
     "output_type": "stream",
     "text": [
      "[*********************100%***********************]  1 of 1 completed\n"
     ]
    }
   ],
   "source": [
    "import pandas as pd\n",
    "from pandas_datareader import data as pdr\n",
    "import yfinance as yf\n",
    "yf.pdr_override()\n",
    "\n",
    "\n",
    "# Define the futures contract name and timeframe\n",
    "contract = 'GC=F' \n",
    "#contract = 'UVXY'\n",
    "start = '2023-01-01'\n",
    "end = '2024-01-01'\n",
    "\n",
    "# Download the data\n",
    "df = pdr.get_data_yahoo(contract, start=start, end=end)\n",
    "\n",
    "# Keep only the relevant columns  \n",
    "df = df[['Open', 'High', 'Low', 'Close', 'Volume']]\n",
    "\n",
    "# Output to CSV\n",
    "#df.to_csv('gold_futures.csv')"
   ]
  },
  {
   "cell_type": "code",
   "execution_count": 11,
   "metadata": {},
   "outputs": [
    {
     "data": {
      "text/html": [
       "<div>\n",
       "<style scoped>\n",
       "    .dataframe tbody tr th:only-of-type {\n",
       "        vertical-align: middle;\n",
       "    }\n",
       "\n",
       "    .dataframe tbody tr th {\n",
       "        vertical-align: top;\n",
       "    }\n",
       "\n",
       "    .dataframe thead th {\n",
       "        text-align: right;\n",
       "    }\n",
       "</style>\n",
       "<table border=\"1\" class=\"dataframe\">\n",
       "  <thead>\n",
       "    <tr style=\"text-align: right;\">\n",
       "      <th></th>\n",
       "      <th>Open</th>\n",
       "      <th>High</th>\n",
       "      <th>Low</th>\n",
       "      <th>Close</th>\n",
       "      <th>Volume</th>\n",
       "      <th>diff</th>\n",
       "    </tr>\n",
       "    <tr>\n",
       "      <th>Date</th>\n",
       "      <th></th>\n",
       "      <th></th>\n",
       "      <th></th>\n",
       "      <th></th>\n",
       "      <th></th>\n",
       "      <th></th>\n",
       "    </tr>\n",
       "  </thead>\n",
       "  <tbody>\n",
       "    <tr>\n",
       "      <th>2023-01-03</th>\n",
       "      <td>1836.199951</td>\n",
       "      <td>1839.699951</td>\n",
       "      <td>1836.199951</td>\n",
       "      <td>1839.699951</td>\n",
       "      <td>29</td>\n",
       "      <td>NaN</td>\n",
       "    </tr>\n",
       "    <tr>\n",
       "      <th>2023-01-04</th>\n",
       "      <td>1845.599976</td>\n",
       "      <td>1859.099976</td>\n",
       "      <td>1845.599976</td>\n",
       "      <td>1852.800049</td>\n",
       "      <td>25</td>\n",
       "      <td>1839.699951</td>\n",
       "    </tr>\n",
       "    <tr>\n",
       "      <th>2023-01-05</th>\n",
       "      <td>1855.199951</td>\n",
       "      <td>1855.199951</td>\n",
       "      <td>1834.800049</td>\n",
       "      <td>1834.800049</td>\n",
       "      <td>24</td>\n",
       "      <td>1852.800049</td>\n",
       "    </tr>\n",
       "    <tr>\n",
       "      <th>2023-01-06</th>\n",
       "      <td>1838.400024</td>\n",
       "      <td>1868.199951</td>\n",
       "      <td>1835.300049</td>\n",
       "      <td>1864.199951</td>\n",
       "      <td>26</td>\n",
       "      <td>1834.800049</td>\n",
       "    </tr>\n",
       "    <tr>\n",
       "      <th>2023-01-09</th>\n",
       "      <td>1867.000000</td>\n",
       "      <td>1880.000000</td>\n",
       "      <td>1867.000000</td>\n",
       "      <td>1872.699951</td>\n",
       "      <td>62</td>\n",
       "      <td>1864.199951</td>\n",
       "    </tr>\n",
       "  </tbody>\n",
       "</table>\n",
       "</div>"
      ],
      "text/plain": [
       "                   Open         High          Low        Close  Volume  \\\n",
       "Date                                                                     \n",
       "2023-01-03  1836.199951  1839.699951  1836.199951  1839.699951      29   \n",
       "2023-01-04  1845.599976  1859.099976  1845.599976  1852.800049      25   \n",
       "2023-01-05  1855.199951  1855.199951  1834.800049  1834.800049      24   \n",
       "2023-01-06  1838.400024  1868.199951  1835.300049  1864.199951      26   \n",
       "2023-01-09  1867.000000  1880.000000  1867.000000  1872.699951      62   \n",
       "\n",
       "                   diff  \n",
       "Date                     \n",
       "2023-01-03          NaN  \n",
       "2023-01-04  1839.699951  \n",
       "2023-01-05  1852.800049  \n",
       "2023-01-06  1834.800049  \n",
       "2023-01-09  1864.199951  "
      ]
     },
     "execution_count": 11,
     "metadata": {},
     "output_type": "execute_result"
    }
   ],
   "source": [
    "df.head()"
   ]
  },
  {
   "cell_type": "code",
   "execution_count": 16,
   "metadata": {},
   "outputs": [],
   "source": [
    "df[\"diff\"] = df[\"Close\"].pct_change() * 100"
   ]
  },
  {
   "cell_type": "code",
   "execution_count": 17,
   "metadata": {},
   "outputs": [
    {
     "data": {
      "text/html": [
       "<div>\n",
       "<style scoped>\n",
       "    .dataframe tbody tr th:only-of-type {\n",
       "        vertical-align: middle;\n",
       "    }\n",
       "\n",
       "    .dataframe tbody tr th {\n",
       "        vertical-align: top;\n",
       "    }\n",
       "\n",
       "    .dataframe thead th {\n",
       "        text-align: right;\n",
       "    }\n",
       "</style>\n",
       "<table border=\"1\" class=\"dataframe\">\n",
       "  <thead>\n",
       "    <tr style=\"text-align: right;\">\n",
       "      <th></th>\n",
       "      <th>Open</th>\n",
       "      <th>High</th>\n",
       "      <th>Low</th>\n",
       "      <th>Close</th>\n",
       "      <th>Volume</th>\n",
       "      <th>diff</th>\n",
       "    </tr>\n",
       "    <tr>\n",
       "      <th>Date</th>\n",
       "      <th></th>\n",
       "      <th></th>\n",
       "      <th></th>\n",
       "      <th></th>\n",
       "      <th></th>\n",
       "      <th></th>\n",
       "    </tr>\n",
       "  </thead>\n",
       "  <tbody>\n",
       "    <tr>\n",
       "      <th>2023-01-03</th>\n",
       "      <td>1836.199951</td>\n",
       "      <td>1839.699951</td>\n",
       "      <td>1836.199951</td>\n",
       "      <td>1839.699951</td>\n",
       "      <td>29</td>\n",
       "      <td>NaN</td>\n",
       "    </tr>\n",
       "    <tr>\n",
       "      <th>2023-01-04</th>\n",
       "      <td>1845.599976</td>\n",
       "      <td>1859.099976</td>\n",
       "      <td>1845.599976</td>\n",
       "      <td>1852.800049</td>\n",
       "      <td>25</td>\n",
       "      <td>0.712078</td>\n",
       "    </tr>\n",
       "    <tr>\n",
       "      <th>2023-01-05</th>\n",
       "      <td>1855.199951</td>\n",
       "      <td>1855.199951</td>\n",
       "      <td>1834.800049</td>\n",
       "      <td>1834.800049</td>\n",
       "      <td>24</td>\n",
       "      <td>-0.971503</td>\n",
       "    </tr>\n",
       "    <tr>\n",
       "      <th>2023-01-06</th>\n",
       "      <td>1838.400024</td>\n",
       "      <td>1868.199951</td>\n",
       "      <td>1835.300049</td>\n",
       "      <td>1864.199951</td>\n",
       "      <td>26</td>\n",
       "      <td>1.602349</td>\n",
       "    </tr>\n",
       "    <tr>\n",
       "      <th>2023-01-09</th>\n",
       "      <td>1867.000000</td>\n",
       "      <td>1880.000000</td>\n",
       "      <td>1867.000000</td>\n",
       "      <td>1872.699951</td>\n",
       "      <td>62</td>\n",
       "      <td>0.455960</td>\n",
       "    </tr>\n",
       "  </tbody>\n",
       "</table>\n",
       "</div>"
      ],
      "text/plain": [
       "                   Open         High          Low        Close  Volume  \\\n",
       "Date                                                                     \n",
       "2023-01-03  1836.199951  1839.699951  1836.199951  1839.699951      29   \n",
       "2023-01-04  1845.599976  1859.099976  1845.599976  1852.800049      25   \n",
       "2023-01-05  1855.199951  1855.199951  1834.800049  1834.800049      24   \n",
       "2023-01-06  1838.400024  1868.199951  1835.300049  1864.199951      26   \n",
       "2023-01-09  1867.000000  1880.000000  1867.000000  1872.699951      62   \n",
       "\n",
       "                diff  \n",
       "Date                  \n",
       "2023-01-03       NaN  \n",
       "2023-01-04  0.712078  \n",
       "2023-01-05 -0.971503  \n",
       "2023-01-06  1.602349  \n",
       "2023-01-09  0.455960  "
      ]
     },
     "execution_count": 17,
     "metadata": {},
     "output_type": "execute_result"
    }
   ],
   "source": [
    "df.head()"
   ]
  },
  {
   "cell_type": "code",
   "execution_count": 18,
   "metadata": {},
   "outputs": [
    {
     "data": {
      "text/plain": [
       "-2.7866212520694877"
      ]
     },
     "execution_count": 18,
     "metadata": {},
     "output_type": "execute_result"
    }
   ],
   "source": [
    "df['diff'].min()"
   ]
  },
  {
   "cell_type": "code",
   "execution_count": 19,
   "metadata": {},
   "outputs": [
    {
     "data": {
      "text/plain": [
       "3.108113950051017"
      ]
     },
     "execution_count": 19,
     "metadata": {},
     "output_type": "execute_result"
    }
   ],
   "source": [
    "df['diff'].max()"
   ]
  },
  {
   "cell_type": "code",
   "execution_count": 24,
   "metadata": {},
   "outputs": [],
   "source": [
    "# Define min and max for input range  \n",
    "input_min = df['diff'].min()  \n",
    "input_max = df['diff'].max()\n",
    "\n",
    "# Define min and max for output range\n",
    "output_min = 1\n",
    "output_max = 64  \n",
    "\n",
    "# Rescale values  \n",
    "df['scaled'] = round(((df['diff'] - input_min) / \n",
    "                   (input_max - input_min)) * \n",
    "                  (output_max - output_min) + output_min)\n"
   ]
  },
  {
   "cell_type": "code",
   "execution_count": 25,
   "metadata": {},
   "outputs": [
    {
     "data": {
      "text/html": [
       "<div>\n",
       "<style scoped>\n",
       "    .dataframe tbody tr th:only-of-type {\n",
       "        vertical-align: middle;\n",
       "    }\n",
       "\n",
       "    .dataframe tbody tr th {\n",
       "        vertical-align: top;\n",
       "    }\n",
       "\n",
       "    .dataframe thead th {\n",
       "        text-align: right;\n",
       "    }\n",
       "</style>\n",
       "<table border=\"1\" class=\"dataframe\">\n",
       "  <thead>\n",
       "    <tr style=\"text-align: right;\">\n",
       "      <th></th>\n",
       "      <th>Open</th>\n",
       "      <th>High</th>\n",
       "      <th>Low</th>\n",
       "      <th>Close</th>\n",
       "      <th>Volume</th>\n",
       "      <th>diff</th>\n",
       "      <th>scaled</th>\n",
       "    </tr>\n",
       "    <tr>\n",
       "      <th>Date</th>\n",
       "      <th></th>\n",
       "      <th></th>\n",
       "      <th></th>\n",
       "      <th></th>\n",
       "      <th></th>\n",
       "      <th></th>\n",
       "      <th></th>\n",
       "    </tr>\n",
       "  </thead>\n",
       "  <tbody>\n",
       "    <tr>\n",
       "      <th>2023-01-03</th>\n",
       "      <td>1836.199951</td>\n",
       "      <td>1839.699951</td>\n",
       "      <td>1836.199951</td>\n",
       "      <td>1839.699951</td>\n",
       "      <td>29</td>\n",
       "      <td>NaN</td>\n",
       "      <td>NaN</td>\n",
       "    </tr>\n",
       "    <tr>\n",
       "      <th>2023-01-04</th>\n",
       "      <td>1845.599976</td>\n",
       "      <td>1859.099976</td>\n",
       "      <td>1845.599976</td>\n",
       "      <td>1852.800049</td>\n",
       "      <td>25</td>\n",
       "      <td>0.712078</td>\n",
       "      <td>38.0</td>\n",
       "    </tr>\n",
       "    <tr>\n",
       "      <th>2023-01-05</th>\n",
       "      <td>1855.199951</td>\n",
       "      <td>1855.199951</td>\n",
       "      <td>1834.800049</td>\n",
       "      <td>1834.800049</td>\n",
       "      <td>24</td>\n",
       "      <td>-0.971503</td>\n",
       "      <td>20.0</td>\n",
       "    </tr>\n",
       "    <tr>\n",
       "      <th>2023-01-06</th>\n",
       "      <td>1838.400024</td>\n",
       "      <td>1868.199951</td>\n",
       "      <td>1835.300049</td>\n",
       "      <td>1864.199951</td>\n",
       "      <td>26</td>\n",
       "      <td>1.602349</td>\n",
       "      <td>48.0</td>\n",
       "    </tr>\n",
       "    <tr>\n",
       "      <th>2023-01-09</th>\n",
       "      <td>1867.000000</td>\n",
       "      <td>1880.000000</td>\n",
       "      <td>1867.000000</td>\n",
       "      <td>1872.699951</td>\n",
       "      <td>62</td>\n",
       "      <td>0.455960</td>\n",
       "      <td>36.0</td>\n",
       "    </tr>\n",
       "  </tbody>\n",
       "</table>\n",
       "</div>"
      ],
      "text/plain": [
       "                   Open         High          Low        Close  Volume  \\\n",
       "Date                                                                     \n",
       "2023-01-03  1836.199951  1839.699951  1836.199951  1839.699951      29   \n",
       "2023-01-04  1845.599976  1859.099976  1845.599976  1852.800049      25   \n",
       "2023-01-05  1855.199951  1855.199951  1834.800049  1834.800049      24   \n",
       "2023-01-06  1838.400024  1868.199951  1835.300049  1864.199951      26   \n",
       "2023-01-09  1867.000000  1880.000000  1867.000000  1872.699951      62   \n",
       "\n",
       "                diff  scaled  \n",
       "Date                          \n",
       "2023-01-03       NaN     NaN  \n",
       "2023-01-04  0.712078    38.0  \n",
       "2023-01-05 -0.971503    20.0  \n",
       "2023-01-06  1.602349    48.0  \n",
       "2023-01-09  0.455960    36.0  "
      ]
     },
     "execution_count": 25,
     "metadata": {},
     "output_type": "execute_result"
    }
   ],
   "source": [
    "df.head()"
   ]
  },
  {
   "cell_type": "code",
   "execution_count": null,
   "metadata": {},
   "outputs": [],
   "source": []
  },
  {
   "cell_type": "code",
   "execution_count": 27,
   "metadata": {},
   "outputs": [
    {
     "name": "stdout",
     "output_type": "stream",
     "text": [
      "                                                 vec            label\n",
      "0  [0, 4, 2, 6, 5, 4, 9, 1, 9, 2, 8, 4, 2, 7, 3, ...  [4, 1, 3, 0, 9]\n",
      "1  [4, 2, 6, 5, 4, 9, 1, 9, 2, 8, 4, 2, 7, 3, 7, ...  [1, 3, 0, 9, 2]\n",
      "2  [2, 6, 5, 4, 9, 1, 9, 2, 8, 4, 2, 7, 3, 7, 2, ...  [3, 0, 9, 2, 9]\n",
      "3  [6, 5, 4, 9, 1, 9, 2, 8, 4, 2, 7, 3, 7, 2, 0, ...  [0, 9, 2, 9, 0]\n",
      "4  [5, 4, 9, 1, 9, 2, 8, 4, 2, 7, 3, 7, 2, 0, 1, ...  [9, 2, 9, 0, 6]\n"
     ]
    }
   ],
   "source": [
    "# Prepare timeseries for ML \n",
    "\n",
    "import pandas as pd\n",
    "import numpy as np\n",
    "\n",
    "# Generate sample timeseries  \n",
    "N = 1000\n",
    "series = np.random.randint(0, 10, size=N)  \n",
    "\n",
    "num_steps = 64 \n",
    "num_labels = 5\n",
    "\n",
    "data = []\n",
    "labels = []\n",
    "\n",
    "# Iterate over series \n",
    "for i in range(len(series) - num_steps - num_labels + 1):\n",
    "    vec = series[i:i+num_steps]\n",
    "    label = series[i+num_steps:i+num_steps+num_labels]\n",
    "    \n",
    "    # Append to lists\n",
    "    data.append(list(vec))  \n",
    "    labels.append(list(label))\n",
    "    \n",
    "# Create dataframe    \n",
    "df = pd.DataFrame()\n",
    "df['vec'] = data\n",
    "df['label'] = labels\n",
    "\n",
    "print(df.head())\n"
   ]
  }
 ],
 "metadata": {
  "kernelspec": {
   "display_name": "base",
   "language": "python",
   "name": "python3"
  },
  "language_info": {
   "codemirror_mode": {
    "name": "ipython",
    "version": 3
   },
   "file_extension": ".py",
   "mimetype": "text/x-python",
   "name": "python",
   "nbconvert_exporter": "python",
   "pygments_lexer": "ipython3",
   "version": "3.9.13"
  }
 },
 "nbformat": 4,
 "nbformat_minor": 2
}
